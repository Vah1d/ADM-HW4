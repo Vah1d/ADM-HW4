{
 "cells": [
  {
   "cell_type": "markdown",
   "id": "351c21d8",
   "metadata": {},
   "source": [
    "# Question 2: **Grouping Customers Together**"
   ]
  },
  {
   "cell_type": "code",
   "execution_count": 1,
   "id": "1e80a214",
   "metadata": {},
   "outputs": [],
   "source": [
    "import pandas as pd \n",
    "import numpy as np\n",
    "import datetime as dt\n",
    "from datetime import datetime\n",
    "import numpy as np\n",
    "from tqdm import tqdm\n",
    "import re\n",
    "from collections import Counter\n",
    "import warnings"
   ]
  },
  {
   "cell_type": "code",
   "execution_count": 2,
   "id": "26f68fa1",
   "metadata": {},
   "outputs": [],
   "source": [
    "warnings.filterwarnings(action='ignore')"
   ]
  },
  {
   "cell_type": "markdown",
   "id": "e683fa6e",
   "metadata": {},
   "source": [
    "## 2.1.- Getting your data + feature engineering"
   ]
  },
  {
   "cell_type": "markdown",
   "id": "d4bb26a3",
   "metadata": {},
   "source": [
    "First we read the dataset from the `csv` file to start working with it."
   ]
  },
  {
   "cell_type": "code",
   "execution_count": 2,
   "id": "67a5d6fc",
   "metadata": {},
   "outputs": [],
   "source": [
    "data=pd.read_csv('bank_transactions.csv')"
   ]
  },
  {
   "cell_type": "markdown",
   "id": "1ba22529",
   "metadata": {},
   "source": [
    "20 own features:\n",
    "\n",
    "- Max of transaction \n",
    "- Min of transaction \n",
    "- Most frequent time of day \n",
    "- Age of Costumer from the transaction\n",
    "- Day of the Week of most Trasactions\n",
    "- Month of most Trasactions \n",
    "- Month when they had more money \n",
    "- Num of transactions per month \n",
    "- Location where more money is sent from\n",
    "- Season of most transactions \n",
    "- Does the customer change its sex? (1-YES | 0-NO) \n",
    "- Period of the day when most transactions are done \n",
    "- Section of the population: {Students, Adults, Retired} when last transaction\n",
    "- Rich or not overall\n",
    "- If the person's balance is very volatile or not. (1-YES | 0-NO) \n",
    "- Log(Account Balance) on average || If Account==0 -> log()=-1\n",
    "- Increment CustAccountBalance in the year  \n",
    "- Total amount spent on transactions \n",
    "- How many cities have been visitied by that person \n",
    "- How many transactions are done at night.\n"
   ]
  },
  {
   "cell_type": "code",
   "execution_count": 3,
   "id": "8a8b3762",
   "metadata": {},
   "outputs": [],
   "source": [
    "data.dropna(inplace=True)"
   ]
  },
  {
   "cell_type": "code",
   "execution_count": 4,
   "id": "8b9b8056",
   "metadata": {},
   "outputs": [],
   "source": [
    "data.TransactionDate=pd.to_datetime(data.TransactionDate)"
   ]
  },
  {
   "cell_type": "code",
   "execution_count": 5,
   "id": "edbe6027",
   "metadata": {},
   "outputs": [],
   "source": [
    "data.CustomerDOB=pd.to_datetime(data.CustomerDOB)"
   ]
  },
  {
   "cell_type": "code",
   "execution_count": 6,
   "id": "bc2eb311",
   "metadata": {},
   "outputs": [],
   "source": [
    "data.TransactionTime = data.TransactionTime.apply(lambda x: datetime.strptime(str(x).zfill(6), '%H%M%S'))"
   ]
  },
  {
   "cell_type": "code",
   "execution_count": 7,
   "id": "6a2d0931",
   "metadata": {},
   "outputs": [
    {
     "data": {
      "text/plain": [
       "<AxesSubplot:>"
      ]
     },
     "execution_count": 7,
     "metadata": {},
     "output_type": "execute_result"
    },
    {
     "data": {
      "image/png": "[encoded data removed]",
      "text/plain": [
       "<Figure size 432x288 with 1 Axes>"
      ]
     },
     "metadata": {
      "needs_background": "light"
     },
     "output_type": "display_data"
    }
   ],
   "source": [
    "data.CustomerDOB.dt.year.hist(bins=50)"
   ]
  },
  {
   "cell_type": "code",
   "execution_count": 8,
   "id": "d4cb87cc",
   "metadata": {},
   "outputs": [],
   "source": [
    "data.loc[data.CustomerDOB.dt.year>2000,'CustomerDOB']=data.loc[data.CustomerDOB.dt.year>2000,'CustomerDOB']-pd.DateOffset(years=100)"
   ]
  },
  {
   "cell_type": "markdown",
   "id": "46dabb9f",
   "metadata": {},
   "source": [
    "We can just drop the data from the people born in 1800s, or consider there is a mistake with the rounding and they are born in 2000, but considering that the dataset is from 2016, I don't think there were 50.000 16-y.o making bank transactions in 2016..."
   ]
  },
  {
   "cell_type": "code",
   "execution_count": 9,
   "id": "2fcc9173",
   "metadata": {},
   "outputs": [],
   "source": [
    "data.loc[data.CustomerDOB.dt.year==1800,'CustomerDOB']=data.loc[data.CustomerDOB.dt.year==1800,'CustomerDOB']+pd.DateOffset(years=200)"
   ]
  },
  {
   "cell_type": "code",
   "execution_count": 10,
   "id": "0659745a",
   "metadata": {},
   "outputs": [
    {
     "data": {
      "text/plain": [
       "<AxesSubplot:>"
      ]
     },
     "execution_count": 10,
     "metadata": {},
     "output_type": "execute_result"
    },
    {
     "data": {
      "image/png": "[encoded data removed]",
      "text/plain": [
       "<Figure size 432x288 with 1 Axes>"
      ]
     },
     "metadata": {
      "needs_background": "light"
     },
     "output_type": "display_data"
    }
   ],
   "source": [
    "data.CustomerDOB.dt.year.hist(bins=50)"
   ]
  },
  {
   "cell_type": "code",
   "execution_count": 11,
   "id": "f8fb72e9",
   "metadata": {},
   "outputs": [
    {
     "data": {
      "text/plain": [
       "56561"
      ]
     },
     "execution_count": 11,
     "metadata": {},
     "output_type": "execute_result"
    }
   ],
   "source": [
    "data.CustomerDOB[data.CustomerDOB.dt.year==2000].count()"
   ]
  },
  {
   "cell_type": "code",
   "execution_count": 12,
   "id": "0a4134b9",
   "metadata": {},
   "outputs": [],
   "source": [
    "data['TransactionAmount (INR)'] = data['TransactionAmount (INR)'].astype(int)"
   ]
  },
  {
   "cell_type": "markdown",
   "id": "7373f4ff",
   "metadata": {},
   "source": [
    "Let's try to sort out the locations:\n",
    "\n",
    "Make a list of the cities with length 1 and then, for the ones that have larger length, looks which one matches and then put it. If non matches, oh well :( . "
   ]
  },
  {
   "cell_type": "markdown",
   "id": "483f8bfb",
   "metadata": {},
   "source": [
    "Here we create a list with all the locations formed of 1 word, which we are going to consider to be the actual citie names."
   ]
  },
  {
   "cell_type": "code",
   "execution_count": 15,
   "id": "ef745b03",
   "metadata": {},
   "outputs": [],
   "source": [
    "cities=[]\n",
    "\n",
    "for i in data.CustLocation:\n",
    "    if len(i.split())==1 and bool(re.match('[A-Z]',i)):\n",
    "        cities.append(i)\n",
    "cities=np.unique(cities)"
   ]
  },
  {
   "cell_type": "markdown",
   "id": "527c41fd",
   "metadata": {},
   "source": [
    "Now, for all the `CustLocations` that have length greater than $1$, we will see which of the existing do they match and substitute it to be able to work with the data."
   ]
  },
  {
   "cell_type": "code",
   "execution_count": 127,
   "id": "5bc1f743",
   "metadata": {},
   "outputs": [
    {
     "name": "stderr",
     "output_type": "stream",
     "text": [
      "100%|████████████████████████████████| 1041614/1041614 [26:43<00:00, 649.75it/s]\n"
     ]
    }
   ],
   "source": [
    "locations=[]\n",
    "for i in tqdm(range(len(data))):\n",
    "    if len((data.CustLocation.iloc[i]).split())>1:\n",
    "        k,j=0,0\n",
    "        while(k==0):\n",
    "            if j==len(cities)-1:\n",
    "                k=1\n",
    "                locations.append('-')\n",
    "                pass\n",
    "            if cities[j] in data.CustLocation.iloc[i]:\n",
    "                locations.append(cities[j])\n",
    "                k+=1\n",
    "            j+=1\n",
    "    else:\n",
    "        locations.append(data.CustLocation.iloc[i])"
   ]
  },
  {
   "cell_type": "code",
   "execution_count": 151,
   "id": "4ac69b1e",
   "metadata": {},
   "outputs": [],
   "source": [
    "locations=locations[0:len(locations)-2]"
   ]
  },
  {
   "cell_type": "code",
   "execution_count": 152,
   "id": "a6483b6b",
   "metadata": {},
   "outputs": [],
   "source": [
    "data['Location']=locations"
   ]
  },
  {
   "cell_type": "code",
   "execution_count": 153,
   "id": "fb822c85",
   "metadata": {},
   "outputs": [
    {
     "data": {
      "text/plain": [
       "6036"
      ]
     },
     "execution_count": 153,
     "metadata": {},
     "output_type": "execute_result"
    }
   ],
   "source": [
    "data.Locations[data.Locations=='-'].count()"
   ]
  },
  {
   "cell_type": "code",
   "execution_count": 154,
   "id": "e55aca1b",
   "metadata": {},
   "outputs": [],
   "source": [
    "data.to_pickle('data_SatM.pkl')"
   ]
  },
  {
   "cell_type": "code",
   "execution_count": 3,
   "id": "d6a68f91",
   "metadata": {},
   "outputs": [],
   "source": [
    "data=pd.read_pickle('data_SatM.pkl')"
   ]
  },
  {
   "cell_type": "code",
   "execution_count": 4,
   "id": "86c39313",
   "metadata": {},
   "outputs": [],
   "source": [
    "data.drop('CustLocation',axis=1,inplace=True)"
   ]
  },
  {
   "cell_type": "code",
   "execution_count": 5,
   "id": "fb33d837",
   "metadata": {},
   "outputs": [],
   "source": [
    "data.drop('Locations',axis=1,inplace=True)"
   ]
  },
  {
   "cell_type": "markdown",
   "id": "ed016572",
   "metadata": {},
   "source": [
    "## Let's make the new features for the DataSet"
   ]
  },
  {
   "cell_type": "code",
   "execution_count": 6,
   "id": "72d94ae8",
   "metadata": {},
   "outputs": [],
   "source": [
    "costumers=data['CustomerID']"
   ]
  },
  {
   "cell_type": "code",
   "execution_count": 7,
   "id": "d06cc182",
   "metadata": {},
   "outputs": [],
   "source": [
    "costumers=np.unique(costumers)"
   ]
  },
  {
   "cell_type": "markdown",
   "id": "1a2c1159",
   "metadata": {},
   "source": [
    "Now that we have a string with all the costumers, we will search for all the extra features that we have decided to put into the dataset, we will build a new one with the previous and the new features where we also replace the old `CustLocation` by what we have previously named as `Location.` "
   ]
  },
  {
   "cell_type": "code",
   "execution_count": 60,
   "id": "d809c13a",
   "metadata": {},
   "outputs": [],
   "source": [
    "def get_features(id):\n",
    "    \n",
    "    features={}\n",
    "    \n",
    "    t=data[data['CustomerID']==id]\n",
    "    \n",
    "    features['CustomerID']=id\n",
    "    \n",
    "    #Number of Transactions\n",
    "    features['N_Transactions']=len(t)\n",
    "    \n",
    "    #Number of transaction with balance bigger than 100\n",
    "    features['N_Transaction_100']=len(t[t.CustAccountBalance>100])\n",
    "    \n",
    "    #Average amount of the transactions\n",
    "    features['AverageAmount']=(t['TransactionAmount (INR)'].sum())/len(t)\n",
    "    \n",
    "    #Average Balance\n",
    "    features['Average Balance']=((t.CustAccountBalance.sum())/len(t)).round(4)\n",
    "    \n",
    "    #Average Utilisation\n",
    "    features['Utilisation']=((t.CustAccountBalance-t['TransactionAmount (INR)']).sum()/len(t)).round(4)\n",
    "    \n",
    "    #Most Common Gender (if they are equal, we'll asigne the first one)\n",
    "    f=t['CustGender'][t['CustGender']=='F'].count()\n",
    "    m=t['CustGender'][t['CustGender']=='M'].count()\n",
    "    if m>f:\n",
    "        features['MostCommonGender']='M'\n",
    "    elif f>m:\n",
    "        features['MostCommonGender']='F'\n",
    "    else:\n",
    "        features['MostCommonGender']=t.iloc[0]['CustGender']\n",
    "    \n",
    "    #Most Frequent Location\n",
    "    features['MostFreqLocation']=Counter(t['Location']).most_common(1)[0][0]\n",
    "    \n",
    "    #Now we proceed with the 20 one selected by us\n",
    "    \n",
    "    #Max of Transactions\n",
    "    features['MaxTransaction']=max(t['TransactionAmount (INR)'])\n",
    "    \n",
    "    #Min of Transactions\n",
    "    features['MinTransaction']=min(t['TransactionAmount (INR)'])\n",
    "    \n",
    "    #Most frequent time of Transaction (hour)\n",
    "    features['MostFreqTime']=Counter(t.TransactionTime.dt.hour).most_common(1)[0][0]\n",
    "    \n",
    "    #Age of Customer in first transaction\n",
    "    features['AverageAge']=((pd.to_datetime('today')-data.CustomerDOB)/np.timedelta64(1,'Y')).iloc[len(t)-1].round()\n",
    "    \n",
    "    #Day of the Week with most transactions\n",
    "    days_week={0:'Monday',1:'Tuesday',2:'Wednesday',3:'Thursday',4:'Friday',5:'Saturday',6:'Sunday'}\n",
    "    aux=Counter(t.TransactionDate.dt.day_of_week).most_common(1)[0][0]\n",
    "    features['Day_of_Week']=days_week[aux]\n",
    "    \n",
    "    #Month with most transactions\n",
    "    months={1:'Jan',2:'Feb',3:'March',4:'April',5:'May',6:'June',7:'July',8:'Aug',9:'Sept',10:'Oct',11:'Nov',12:'Dec'}\n",
    "    aux=Counter(t.TransactionDate.dt.month).most_common(1)[0][0]\n",
    "    features['Month']=months[aux]\n",
    "    \n",
    "    #Month with higher Balance\n",
    "    features['Month_Higher_Balance']=t[t['CustAccountBalance']==max(t['CustAccountBalance'])]['TransactionDate'].dt.month.apply(lambda x:months[x]).iloc[0]\n",
    "\n",
    "    #Location where more money is sent from\n",
    "    features['MoreMoneyLoc']=t[t['TransactionAmount (INR)']==max(t['TransactionAmount (INR)'])].Location.iloc[0]\n",
    "    \n",
    "    #Season of First Transaction\n",
    "    season={1:'W',2:'W',3:'Sp',4:'Sp',5:'Sp',6:'Su',7:'Su',8:'Su',9:'Au',10:'Au',11:'Au',12:'W'}\n",
    "    features['Season']=season[t['TransactionDate'].dt.month.iloc[0]]\n",
    "    \n",
    "    #Does the Customer Change Sex along transactions?\n",
    "    if m!=0 and f!=0:\n",
    "        features['SexChange']=1\n",
    "    else:\n",
    "        features['SexChange']=0\n",
    "    \n",
    "    #Period of the Day of more transactions\n",
    "    def period(time):\n",
    "        if time in [21,22,23,24,0,1,2,3,4,5]:\n",
    "            return 'Night'\n",
    "        elif time in [6,7,8,9,10,11,12]:\n",
    "            return 'Morning'\n",
    "        elif time in [13,14,15,16]:\n",
    "            return 'Afternoon'\n",
    "        elif time in [17,18,19,20]:\n",
    "            return 'Evening'\n",
    "        \n",
    "    aux=Counter(t.TransactionDate.dt.hour).most_common(1)[0][0]\n",
    "    features['Period']=period(aux)\n",
    "    \n",
    "    # Section of Population\n",
    "    def section(age):\n",
    "        if age<=25:\n",
    "            return 'Student'\n",
    "        elif 25<age and age<65:\n",
    "            return 'Adult'\n",
    "        elif age>=65:\n",
    "            return 'Retired'\n",
    "        \n",
    "    features['Section']=section(((pd.to_datetime('today')-data.CustomerDOB)/np.timedelta64(1,'Y')).iloc[len(t)-1])\n",
    "    \n",
    "    # Rich or Poor in the moment of transaction (we will consider rich if in the moment has a balance over 100.000)\n",
    "    def richpoor(x):\n",
    "        if x<100000:\n",
    "            return 'Poor'\n",
    "        else:\n",
    "            return 'Rich'\n",
    "    features['RichPoor']=richpoor(t.CustAccountBalance.sum()/len(t))\n",
    "    \n",
    "    #Is the Balance Volatile or Variable? If the standard deviation is higher than then average, we'll say it is(1)\n",
    "    features['Volatile_Balance']=int(t.CustAccountBalance.std()>t.CustAccountBalance.mean())\n",
    "    \n",
    "    #Log Account Balance:\n",
    "    aux=np.log10(t.CustAccountBalance.sum()).round(4)\n",
    "    if aux==-np.inf:\n",
    "        aux=-1\n",
    "    features['LogCustAccountBalance']=aux\n",
    "    \n",
    "    #Increment CustAccountBalance in the year: final -initial\n",
    "    features['Increment']=(t['CustAccountBalance'].iloc[len(t)-1]-t['CustAccountBalance'].iloc[0]).round(4)\n",
    "    \n",
    "    #Total Amount Spent on Transactions\n",
    "    features['TotalTransactions']=t['TransactionAmount (INR)'].sum()\n",
    "    \n",
    "    #Cities Visited\n",
    "    features['Num_Cities']=len(np.unique(t['Location']))\n",
    "    \n",
    "    #Transactions Done at Night\n",
    "    night=t['TransactionTime'].dt.hour.apply(period)\n",
    "    features['NightTransactions']=len(night[night=='Night'])\n",
    "    \n",
    "    return features"
   ]
  },
  {
   "cell_type": "code",
   "execution_count": 62,
   "id": "f809efc4",
   "metadata": {},
   "outputs": [
    {
     "name": "stderr",
     "output_type": "stream",
     "text": [
      "100%|██████████████████████████████████████████████████████████████████████████████████████████████████| 879357/879357 [29:09:28<00:00,  8.38it/s]\n"
     ]
    }
   ],
   "source": [
    "#We put the first `CustomerID` and we proceed with the rest of the features\n",
    "info=get_features(costumers[0])\n",
    "new_data=pd.DataFrame(info,index=[0])\n",
    "\n",
    "for i in tqdm(range(len(costumers[1:]))):\n",
    "    info=get_features(costumers[i])\n",
    "    aux=pd.DataFrame(info,index=[i+1])\n",
    "    new_data=new_data.append(aux)\n"
   ]
  },
  {
   "cell_type": "code",
   "execution_count": 63,
   "id": "f52cb8c1",
   "metadata": {},
   "outputs": [],
   "source": [
    "final.to_pickle('finaldata.pkl')"
   ]
  },
  {
   "cell_type": "code",
   "execution_count": 69,
   "id": "9194e3ed",
   "metadata": {},
   "outputs": [],
   "source": [
    "aux=new_data.groupby('CustomerID').value_counts().to_frame()"
   ]
  },
  {
   "cell_type": "code",
   "execution_count": 74,
   "id": "e972cdb6",
   "metadata": {},
   "outputs": [],
   "source": [
    "data=new_data[['CustomerID','N_Transactions','N_Transaction_100','AverageAmount','Average Balance','Utilisation','MostCommonGender','MostFreqLocation','MaxTransaction','MinTransaction','MostFreqTime','AverageAge','Day_of_Week','Month','Month_Higher_Balance','MoreMoneyLoc','Season','SexChange','Period','Section','RichPoor','Volatile_Balance','LogCustAccountBalance','Increment','TotalTransactions','Num_Cities','NightTransactions']]"
   ]
  },
  {
   "cell_type": "code",
   "execution_count": 75,
   "id": "5a72d7f8",
   "metadata": {},
   "outputs": [],
   "source": [
    "data.drop_duplicates(inplace=True)"
   ]
  },
  {
   "cell_type": "code",
   "execution_count": 79,
   "id": "35ccf607",
   "metadata": {},
   "outputs": [],
   "source": [
    "data.set_index('CustomerID',inplace=True)"
   ]
  },
  {
   "cell_type": "code",
   "execution_count": 81,
   "id": "947803fd",
   "metadata": {},
   "outputs": [],
   "source": [
    "data.to_csv('Bank_Features.csv',sep='\\t')\n",
    "data.to_pickle('NewData.pkl')"
   ]
  },
  {
   "cell_type": "code",
   "execution_count": null,
   "id": "aa4c251c",
   "metadata": {},
   "outputs": [],
   "source": []
  }
 ],
 "metadata": {
  "kernelspec": {
   "display_name": "Python 3 (ipykernel)",
   "language": "python",
   "name": "python3"
  },
  "language_info": {
   "codemirror_mode": {
    "name": "ipython",
    "version": 3
   },
   "file_extension": ".py",
   "mimetype": "text/x-python",
   "name": "python",
   "nbconvert_exporter": "python",
   "pygments_lexer": "ipython3",
   "version": "3.9.12"
  }
 },
 "nbformat": 4,
 "nbformat_minor": 5
}
