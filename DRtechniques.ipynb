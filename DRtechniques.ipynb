{
  "nbformat": 4,
  "nbformat_minor": 0,
  "metadata": {
    "colab": {
      "provenance": []
    },
    "kernelspec": {
      "name": "python3",
      "display_name": "Python 3"
    },
    "language_info": {
      "name": "python"
    }
  },
  "cells": [
    {
      "cell_type": "markdown",
      "source": [
        "# **Dimensionality Reduction Techniques:**\n",
        "\n",
        "# -\tPrincipal component analysis (PCA)\n",
        "PCA aims to reduce complex information and provide a simplified structure hidden underneath the higher dimension. It is used when all the dimensions are numerical (all numerical features)\t\n",
        "# -\tMultiple correspondence analysis (MCA) \n",
        "MCA  is a Dimensionality Reduction technique that traditionally applied to the contingency tables. It means it is more appropriate to apply MCA to categorical features (for more than two categorical features)\n",
        "# -\tFactor Analysis of Mixed Data (FAMD)\n",
        "FAMD is a technique dedicated to the Dimensionality Reduction of data set containing both quantitative and qualitative features. It means FAMD is applied to data with both categorical and numerical features.\n",
        "Roughly speaking, the FAMD algorithm can be seen as a mix between PCA and MCA.\n",
        "\n",
        "\n",
        "So among these technics we decide to remove some features which are categorical and use PCA for our features are numerical. \n"
      ],
      "metadata": {
        "id": "3bNr67TKowaZ"
      }
    },
    {
      "cell_type": "code",
      "source": [],
      "metadata": {
        "id": "5Q0xOrhno_bz"
      },
      "execution_count": null,
      "outputs": []
    }
  ]
}